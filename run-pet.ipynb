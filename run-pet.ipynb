{
 "cells": [
  {
   "cell_type": "code",
   "execution_count": null,
   "metadata": {},
   "outputs": [],
   "source": [
    "%cd .../pet/\n"
   ]
  },
  {
   "cell_type": "code",
   "execution_count": null,
   "metadata": {},
   "outputs": [],
   "source": [
    "python3 cli.py \\\n",
    "--method ipet \\ \n",
    "--pattern_ids 0 1 2 3 4 \\\n",
    "--data_dir '/home/sanala/Juputer try/pet/data-fsl/eng/5sample/' \\\n",
    "--model_type roberta \\\n",
    "--model_name_or_path 'roberta-base' \\\n",
    "--task_name 'topic-classification' \\\n",
    "--output_dir '/home/sanala/Juputer try/pet/results/eng/model-ipet-5-roberta-base/' \\\n",
    "--do_train \\\n",
    "--do_eval \\\n",
    "--sc_repetitions 1"
   ]
  },
  {
   "cell_type": "code",
   "execution_count": null,
   "metadata": {},
   "outputs": [],
   "source": [
    " !python3 cli.py \\\n",
    "--method pet \\\n",
    "--pattern_ids 0 1 2 3 4 \\\n",
    "--data_dir '/home/sanala/Juputer try/pet/data-fsl/eng/10sample/' \\\n",
    "--model_type xlm-roberta \\\n",
    "--model_name_or_path 'Davlan/afro-xlmr-large' \\\n",
    "--task_name 'topic-classification' \\\n",
    "--output_dir '/home/sanala/Juputer try/pet/results/model-pet-10-Davlan-afro-xlmr-large/' \\\n",
    "--do_train \\\n",
    "--do_eval \\\n",
    "--sc_repetitions 1"
   ]
  },
  {
   "cell_type": "code",
   "execution_count": null,
   "metadata": {},
   "outputs": [],
   "source": [
    "python3 cli.py --method ipet --pattern_ids 0 1 2 3 4 --data_dir '/home/sanala/Juputer try/pet/data-fsl/eng/50sample/' --model_type roberta --model_name_or_path 'roberta-base' --task_name 'topic-classification' --output_dir '/home/sanala/Juputer try/pet/results/eng/model-ipet-50-roberta-base/' --do_train --do_eval --sc_repetitions 1"
   ]
  }
 ],
 "metadata": {
  "kernelspec": {
   "display_name": "env-hsd",
   "language": "python",
   "name": "env-hsd"
  },
  "language_info": {
   "codemirror_mode": {
    "name": "ipython",
    "version": 3
   },
   "file_extension": ".py",
   "mimetype": "text/x-python",
   "name": "python",
   "nbconvert_exporter": "python",
   "pygments_lexer": "ipython3",
   "version": "3.8.5"
  }
 },
 "nbformat": 4,
 "nbformat_minor": 4
}
