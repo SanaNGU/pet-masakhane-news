{
 "cells": [
  {
   "cell_type": "code",
   "execution_count": 376,
   "metadata": {},
   "outputs": [],
   "source": [
    "import pandas as pd\n",
    "from collections import Counter, defaultdict\n",
    "import tensorflow as tf\n",
    "import torch\n",
    "device = torch.device(\"cuda\" if torch.cuda.is_available() else \"cpu\")\n"
   ]
  },
  {
   "cell_type": "code",
   "execution_count": 418,
   "metadata": {},
   "outputs": [
    {
     "name": "stdout",
     "output_type": "stream",
     "text": [
      "<class 'pandas.core.frame.DataFrame'>\n",
      "RangeIndex: 1311 entries, 0 to 1310\n",
      "Data columns (total 4 columns):\n",
      " #   Column    Non-Null Count  Dtype \n",
      "---  ------    --------------  ----- \n",
      " 0   category  1311 non-null   object\n",
      " 1   headline  1311 non-null   object\n",
      " 2   text      1311 non-null   object\n",
      " 3   url       1311 non-null   object\n",
      "dtypes: object(4)\n",
      "memory usage: 41.1+ KB\n",
      "<class 'pandas.core.frame.DataFrame'>\n",
      "RangeIndex: 188 entries, 0 to 187\n",
      "Data columns (total 4 columns):\n",
      " #   Column    Non-Null Count  Dtype \n",
      "---  ------    --------------  ----- \n",
      " 0   category  188 non-null    object\n",
      " 1   headline  188 non-null    object\n",
      " 2   text      188 non-null    object\n",
      " 3   url       188 non-null    object\n",
      "dtypes: object(4)\n",
      "memory usage: 6.0+ KB\n"
     ]
    }
   ],
   "source": [
    "\n",
    "train = pd.read_csv('/home/sanala/Juputer try/pet/data/amh/train.tsv', sep=\"\\t\")\n",
    "dev = pd.read_csv('/home/sanala/Juputer try/pet/data/amh/dev.tsv', sep=\"\\t\")\n",
    "test = pd.read_csv('/home/sanala/Juputer try/pet/data/amh/test.tsv', sep=\"\\t\")\n",
    "\n",
    "train.info()\n",
    "train.head(10)\n",
    "dev.info()     "
   ]
  },
  {
   "cell_type": "code",
   "execution_count": 419,
   "metadata": {},
   "outputs": [
    {
     "name": "stdout",
     "output_type": "stream",
     "text": [
      "Unique comments:  False\n",
      "Null values:  False\n"
     ]
    }
   ],
   "source": [
    "#There are repeated examples in the training dataset\n",
    "print('Unique comments: ', train.iloc[:,1].nunique()==train.shape[0] )\n",
    "print('Null values: ', train.isnull().values.any())\n",
    "     "
   ]
  },
  {
   "cell_type": "code",
   "execution_count": 420,
   "metadata": {},
   "outputs": [
    {
     "data": {
      "text/plain": [
       "politics    50\n",
       "health      50\n",
       "sports      47\n",
       "business    41\n",
       "Name: category, dtype: int64"
      ]
     },
     "execution_count": 420,
     "metadata": {},
     "output_type": "execute_result"
    }
   ],
   "source": [
    "dev['category'].value_counts()"
   ]
  },
  {
   "cell_type": "code",
   "execution_count": 380,
   "metadata": {},
   "outputs": [
    {
     "name": "stdout",
     "output_type": "stream",
     "text": [
      "average sentence length:  15.776692254012561\n",
      "stdev sentence length:  3.7644082162769927\n",
      "max sentence length:  32\n"
     ]
    }
   ],
   "source": [
    "#Usually the headlines are sort but outliers can appear.\n",
    "print('average sentence length: ', train.iloc[:,1].str.split().str.len().mean())\n",
    "print('stdev sentence length: ', train.iloc[:,1].str.split().str.len().std())\n",
    "print('max sentence length: ', train.iloc[:,1].str.split().str.len().max())"
   ]
  },
  {
   "cell_type": "code",
   "execution_count": 381,
   "metadata": {},
   "outputs": [
    {
     "data": {
      "text/html": [
       "<div>\n",
       "<style scoped>\n",
       "    .dataframe tbody tr th:only-of-type {\n",
       "        vertical-align: middle;\n",
       "    }\n",
       "\n",
       "    .dataframe tbody tr th {\n",
       "        vertical-align: top;\n",
       "    }\n",
       "\n",
       "    .dataframe thead th {\n",
       "        text-align: right;\n",
       "    }\n",
       "</style>\n",
       "<table border=\"1\" class=\"dataframe\">\n",
       "  <thead>\n",
       "    <tr style=\"text-align: right;\">\n",
       "      <th></th>\n",
       "      <th>category</th>\n",
       "      <th>headline</th>\n",
       "      <th>text</th>\n",
       "      <th>url</th>\n",
       "    </tr>\n",
       "  </thead>\n",
       "  <tbody>\n",
       "  </tbody>\n",
       "</table>\n",
       "</div>"
      ],
      "text/plain": [
       "Empty DataFrame\n",
       "Columns: [category, headline, text, url]\n",
       "Index: []"
      ]
     },
     "execution_count": 381,
     "metadata": {},
     "output_type": "execute_result"
    }
   ],
   "source": [
    "train[train.iloc[:,1].duplicated(keep=False).values]"
   ]
  },
  {
   "cell_type": "code",
   "execution_count": 382,
   "metadata": {},
   "outputs": [],
   "source": [
    "train_nodup=train.drop_duplicates(subset=['headline'], keep='first')\n"
   ]
  },
  {
   "cell_type": "code",
   "execution_count": 383,
   "metadata": {},
   "outputs": [
    {
     "data": {
      "text/html": [
       "<div>\n",
       "<style scoped>\n",
       "    .dataframe tbody tr th:only-of-type {\n",
       "        vertical-align: middle;\n",
       "    }\n",
       "\n",
       "    .dataframe tbody tr th {\n",
       "        vertical-align: top;\n",
       "    }\n",
       "\n",
       "    .dataframe thead th {\n",
       "        text-align: right;\n",
       "    }\n",
       "</style>\n",
       "<table border=\"1\" class=\"dataframe\">\n",
       "  <thead>\n",
       "    <tr style=\"text-align: right;\">\n",
       "      <th></th>\n",
       "      <th>category</th>\n",
       "      <th>headline</th>\n",
       "      <th>text</th>\n",
       "      <th>url</th>\n",
       "    </tr>\n",
       "  </thead>\n",
       "  <tbody>\n",
       "    <tr>\n",
       "      <th>0</th>\n",
       "      <td>health</td>\n",
       "      <td>Tí ìgbẹ́ tóò ń yà bá rí báyìí? Àìsàn jẹjẹrẹ ik...</td>\n",
       "      <td>Ìlera ní Yorùbá pè ní oògùn ọrọ̀, àláfíà ẹni k...</td>\n",
       "      <td>https://www.bbc.com/yoruba/articles/c0w5qxr417zo</td>\n",
       "    </tr>\n",
       "    <tr>\n",
       "      <th>1</th>\n",
       "      <td>health</td>\n",
       "      <td>Breastfeeding: Wo àwọn oúnjẹ́ tí yóò mú kí omi...</td>\n",
       "      <td>Ọpọlọpọ ounjẹ lo wa, to le ṣe awọn iyalọmọ to ...</td>\n",
       "      <td>https://www.bbc.com/yoruba/awon-iroyin-miran-5...</td>\n",
       "    </tr>\n",
       "    <tr>\n",
       "      <th>2</th>\n",
       "      <td>religion</td>\n",
       "      <td>Pastor Adeboye: Ìyàwó Adeboye ní ó jẹ́ okùnrin...</td>\n",
       "      <td>Iyawo pasitọ Enoch Adeboye, Foluke Adeboye ti ...</td>\n",
       "      <td>https://www.bbc.com/yoruba/56262187</td>\n",
       "    </tr>\n",
       "    <tr>\n",
       "      <th>3</th>\n",
       "      <td>health</td>\n",
       "      <td>Charles Olumo Agbako ń ṣe àìsàn ńlá, ó ní ara ...</td>\n",
       "      <td>Òdú ni gbajúgbajà òṣèré tíátà nnì, Abdulsalam ...</td>\n",
       "      <td>https://www.bbc.com/yoruba/articles/cjrn5w951r4o</td>\n",
       "    </tr>\n",
       "    <tr>\n",
       "      <th>4</th>\n",
       "      <td>religion</td>\n",
       "      <td>US Fake Marriage Pastor: Ẹ̀wọ̀n ọdún márùn-ún ...</td>\n",
       "      <td>Olusọagutan kan ni Maryland lorilẹede Amẹrika,...</td>\n",
       "      <td>https://www.bbc.com/yoruba/afrika-59033802</td>\n",
       "    </tr>\n",
       "    <tr>\n",
       "      <th>...</th>\n",
       "      <td>...</td>\n",
       "      <td>...</td>\n",
       "      <td>...</td>\n",
       "      <td>...</td>\n",
       "    </tr>\n",
       "    <tr>\n",
       "      <th>1428</th>\n",
       "      <td>religion</td>\n",
       "      <td>Pastor Adeboye on 2023 Election: Wọ́n bi mi pé...</td>\n",
       "      <td>\"Mo ni bawo lo ṣe da ọ loju pe Naijiria yoo wa...</td>\n",
       "      <td>https://www.bbc.com/yoruba/afrika-59202960</td>\n",
       "    </tr>\n",
       "    <tr>\n",
       "      <th>1429</th>\n",
       "      <td>religion</td>\n",
       "      <td>Silhouette Challenge: Pásítọ̀ Adeboye korò ojú...</td>\n",
       "      <td>Ọpọlọpọ eniyan lo ti n fi ero wọn han lori awo...</td>\n",
       "      <td>https://www.bbc.com/yoruba/media-55868880</td>\n",
       "    </tr>\n",
       "    <tr>\n",
       "      <th>1430</th>\n",
       "      <td>sports</td>\n",
       "      <td>Ukraine crisis: FIFA pàṣẹ pé Russia kò gbọdọ̀ ...</td>\n",
       "      <td>FIFA pàṣẹ pé Russia kò gbọdọ̀ díje pẹ̀lú àṣíá ...</td>\n",
       "      <td>https://www.bbc.com/yoruba/60554121</td>\n",
       "    </tr>\n",
       "    <tr>\n",
       "      <th>1431</th>\n",
       "      <td>politics</td>\n",
       "      <td>Ayo Fayose: Gómìnà àná ìpínlẹ̀ Ekiti tọrọ àfor...</td>\n",
       "      <td>A kii rin, ki ori maa ma mi.  Eyi lo difa fun ...</td>\n",
       "      <td>https://www.bbc.com/yoruba/afrika-50739133</td>\n",
       "    </tr>\n",
       "    <tr>\n",
       "      <th>1432</th>\n",
       "      <td>religion</td>\n",
       "      <td>David Oyedepo pe Biodun Fatoyinbo si ìsìn Shil...</td>\n",
       "      <td>Lẹyin ọdun kan, awọn ọmọ orilẹ-ede Naijiria tu...</td>\n",
       "      <td>https://www.bbc.com/yoruba/awon-iroyin-miran-5...</td>\n",
       "    </tr>\n",
       "  </tbody>\n",
       "</table>\n",
       "<p>1433 rows × 4 columns</p>\n",
       "</div>"
      ],
      "text/plain": [
       "      category                                           headline  \\\n",
       "0       health  Tí ìgbẹ́ tóò ń yà bá rí báyìí? Àìsàn jẹjẹrẹ ik...   \n",
       "1       health  Breastfeeding: Wo àwọn oúnjẹ́ tí yóò mú kí omi...   \n",
       "2     religion  Pastor Adeboye: Ìyàwó Adeboye ní ó jẹ́ okùnrin...   \n",
       "3       health  Charles Olumo Agbako ń ṣe àìsàn ńlá, ó ní ara ...   \n",
       "4     religion  US Fake Marriage Pastor: Ẹ̀wọ̀n ọdún márùn-ún ...   \n",
       "...        ...                                                ...   \n",
       "1428  religion  Pastor Adeboye on 2023 Election: Wọ́n bi mi pé...   \n",
       "1429  religion  Silhouette Challenge: Pásítọ̀ Adeboye korò ojú...   \n",
       "1430    sports  Ukraine crisis: FIFA pàṣẹ pé Russia kò gbọdọ̀ ...   \n",
       "1431  politics  Ayo Fayose: Gómìnà àná ìpínlẹ̀ Ekiti tọrọ àfor...   \n",
       "1432  religion  David Oyedepo pe Biodun Fatoyinbo si ìsìn Shil...   \n",
       "\n",
       "                                                   text  \\\n",
       "0     Ìlera ní Yorùbá pè ní oògùn ọrọ̀, àláfíà ẹni k...   \n",
       "1     Ọpọlọpọ ounjẹ lo wa, to le ṣe awọn iyalọmọ to ...   \n",
       "2     Iyawo pasitọ Enoch Adeboye, Foluke Adeboye ti ...   \n",
       "3     Òdú ni gbajúgbajà òṣèré tíátà nnì, Abdulsalam ...   \n",
       "4     Olusọagutan kan ni Maryland lorilẹede Amẹrika,...   \n",
       "...                                                 ...   \n",
       "1428  \"Mo ni bawo lo ṣe da ọ loju pe Naijiria yoo wa...   \n",
       "1429  Ọpọlọpọ eniyan lo ti n fi ero wọn han lori awo...   \n",
       "1430  FIFA pàṣẹ pé Russia kò gbọdọ̀ díje pẹ̀lú àṣíá ...   \n",
       "1431  A kii rin, ki ori maa ma mi.  Eyi lo difa fun ...   \n",
       "1432  Lẹyin ọdun kan, awọn ọmọ orilẹ-ede Naijiria tu...   \n",
       "\n",
       "                                                    url  \n",
       "0      https://www.bbc.com/yoruba/articles/c0w5qxr417zo  \n",
       "1     https://www.bbc.com/yoruba/awon-iroyin-miran-5...  \n",
       "2                   https://www.bbc.com/yoruba/56262187  \n",
       "3      https://www.bbc.com/yoruba/articles/cjrn5w951r4o  \n",
       "4            https://www.bbc.com/yoruba/afrika-59033802  \n",
       "...                                                 ...  \n",
       "1428         https://www.bbc.com/yoruba/afrika-59202960  \n",
       "1429          https://www.bbc.com/yoruba/media-55868880  \n",
       "1430                https://www.bbc.com/yoruba/60554121  \n",
       "1431         https://www.bbc.com/yoruba/afrika-50739133  \n",
       "1432  https://www.bbc.com/yoruba/awon-iroyin-miran-5...  \n",
       "\n",
       "[1433 rows x 4 columns]"
      ]
     },
     "execution_count": 383,
     "metadata": {},
     "output_type": "execute_result"
    }
   ],
   "source": [
    "train_nodup"
   ]
  },
  {
   "cell_type": "code",
   "execution_count": 384,
   "metadata": {},
   "outputs": [
    {
     "data": {
      "text/html": [
       "<div>\n",
       "<style scoped>\n",
       "    .dataframe tbody tr th:only-of-type {\n",
       "        vertical-align: middle;\n",
       "    }\n",
       "\n",
       "    .dataframe tbody tr th {\n",
       "        vertical-align: top;\n",
       "    }\n",
       "\n",
       "    .dataframe thead th {\n",
       "        text-align: right;\n",
       "    }\n",
       "</style>\n",
       "<table border=\"1\" class=\"dataframe\">\n",
       "  <thead>\n",
       "    <tr style=\"text-align: right;\">\n",
       "      <th></th>\n",
       "      <th>category</th>\n",
       "      <th>headline</th>\n",
       "      <th>text</th>\n",
       "      <th>url</th>\n",
       "    </tr>\n",
       "  </thead>\n",
       "  <tbody>\n",
       "  </tbody>\n",
       "</table>\n",
       "</div>"
      ],
      "text/plain": [
       "Empty DataFrame\n",
       "Columns: [category, headline, text, url]\n",
       "Index: []"
      ]
     },
     "execution_count": 384,
     "metadata": {},
     "output_type": "execute_result"
    }
   ],
   "source": [
    "dev[dev.iloc[:,1].duplicated(keep=False).values]"
   ]
  },
  {
   "cell_type": "code",
   "execution_count": 385,
   "metadata": {},
   "outputs": [],
   "source": [
    "dev_nodup=dev.drop_duplicates(subset=['headline'], keep='first')\n",
    " "
   ]
  },
  {
   "cell_type": "code",
   "execution_count": null,
   "metadata": {},
   "outputs": [],
   "source": []
  },
  {
   "cell_type": "code",
   "execution_count": 414,
   "metadata": {},
   "outputs": [],
   "source": [
    "#We take X examples from each label, and the rest become the unlabeled data-set.\n",
    "classes = train['category'].unique()\n",
    "samples_per_class=50 #5 10 20 50\n",
    "# create an empty list to store the randomly selected samples\n",
    "random_samples = []\n",
    "\n",
    "# iterate through each class\n",
    "for class_name in classes:\n",
    "    # select all rows with the current class\n",
    "    class_rows = train_nodup[train_nodup['category'] == class_name]\n",
    "    # randomly select X rows from the class_rows DataFrame\n",
    "    random_class_samples = class_rows.sample(samples_per_class)\n",
    "    # add the randomly selected samples to the list\n",
    "    random_samples.append(random_class_samples)\n",
    "random_samples_df = pd.concat(random_samples).sample(frac=1)\n",
    "new_train=random_samples_df.reset_index(drop=True)\n",
    "unlabeled_train = train.drop(new_train.index)\n",
    "#new_train\n",
    "#unlabeled_train"
   ]
  },
  {
   "cell_type": "code",
   "execution_count": 415,
   "metadata": {},
   "outputs": [],
   "source": [
    "#new_train.columns = [0, 1, 2,3]\n",
    "#unlabeled_train.columns = [0, 1, 2,3]"
   ]
  },
  {
   "cell_type": "code",
   "execution_count": null,
   "metadata": {},
   "outputs": [],
   "source": [
    "random_samples = []\n",
    "\n",
    "for class_name in classes:\n",
    "    class_rows = dev_nodup[dev_nodup['category'] == class_name]\n",
    "    random_class_samples = class_rows.sample(samples_per_class)\n",
    "    random_samples.append(random_class_samples)\n",
    "random_samples_df = pd.concat(random_samples).sample(frac=1)\n",
    "new_dev=random_samples_df.reset_index(drop=True)\n",
    "#new_dev.columns = [0, 1, 2,3]"
   ]
  },
  {
   "cell_type": "code",
   "execution_count": 417,
   "metadata": {},
   "outputs": [
    {
     "data": {
      "text/html": [
       "<div>\n",
       "<style scoped>\n",
       "    .dataframe tbody tr th:only-of-type {\n",
       "        vertical-align: middle;\n",
       "    }\n",
       "\n",
       "    .dataframe tbody tr th {\n",
       "        vertical-align: top;\n",
       "    }\n",
       "\n",
       "    .dataframe thead th {\n",
       "        text-align: right;\n",
       "    }\n",
       "</style>\n",
       "<table border=\"1\" class=\"dataframe\">\n",
       "  <thead>\n",
       "    <tr style=\"text-align: right;\">\n",
       "      <th></th>\n",
       "      <th>unlabeled</th>\n",
       "      <th>category</th>\n",
       "      <th>headline</th>\n",
       "      <th>text</th>\n",
       "      <th>url</th>\n",
       "    </tr>\n",
       "  </thead>\n",
       "  <tbody>\n",
       "    <tr>\n",
       "      <th>0</th>\n",
       "      <td>unlabeled</td>\n",
       "      <td>sports</td>\n",
       "      <td>Diego Maradona: Báyìí ni àgbàọ̀jẹ̀ agbábọ́ọ̀lù...</td>\n",
       "      <td>Ba a ku laa dere eeyan o sunwọn laaye. Agbaọjẹ...</td>\n",
       "      <td>https://www.bbc.com/yoruba/ere-idaraya-55078990</td>\n",
       "    </tr>\n",
       "    <tr>\n",
       "      <th>1</th>\n",
       "      <td>unlabeled</td>\n",
       "      <td>politics</td>\n",
       "      <td>Kogi PDP Primaries: Wada fẹ̀yìn Dino gbálẹ̀ ní...</td>\n",
       "      <td>Amoju ẹro Musa Wada la Sẹnẹtọ Dino Melaye mọ l...</td>\n",
       "      <td>https://www.bbc.com/yoruba/afrika-49583650</td>\n",
       "    </tr>\n",
       "    <tr>\n",
       "      <th>2</th>\n",
       "      <td>unlabeled</td>\n",
       "      <td>health</td>\n",
       "      <td>Snail Slim Soap: Wo ọ̀pọ̀ àǹfààní tó wà nínú l...</td>\n",
       "      <td>Ara meeriri ree, a ti ri oju ologbo lori atẹ, ...</td>\n",
       "      <td>https://www.bbc.com/yoruba/afrika-57373685</td>\n",
       "    </tr>\n",
       "    <tr>\n",
       "      <th>3</th>\n",
       "      <td>unlabeled</td>\n",
       "      <td>entertainment</td>\n",
       "      <td>Yollywood: Baba Wande, Kareem Adepoju, Jide Ko...</td>\n",
       "      <td>Iriri kọja ẹgbẹ abẹwu ni ọrọ awọn agba osere k...</td>\n",
       "      <td>https://www.bbc.com/yoruba/62648794</td>\n",
       "    </tr>\n",
       "    <tr>\n",
       "      <th>4</th>\n",
       "      <td>unlabeled</td>\n",
       "      <td>entertainment</td>\n",
       "      <td>Dino Melaye vs Iyabo Ojo: Sẹ́nétọ̀ ní lórí irọ...</td>\n",
       "      <td>Laipẹ yii ni fidio kan gbode lori ayelujara, n...</td>\n",
       "      <td>https://www.bbc.com/yoruba/afrika-57628945</td>\n",
       "    </tr>\n",
       "    <tr>\n",
       "      <th>...</th>\n",
       "      <td>...</td>\n",
       "      <td>...</td>\n",
       "      <td>...</td>\n",
       "      <td>...</td>\n",
       "      <td>...</td>\n",
       "    </tr>\n",
       "    <tr>\n",
       "      <th>1178</th>\n",
       "      <td>unlabeled</td>\n",
       "      <td>religion</td>\n",
       "      <td>Pastor Adeboye on 2023 Election: Wọ́n bi mi pé...</td>\n",
       "      <td>\"Mo ni bawo lo ṣe da ọ loju pe Naijiria yoo wa...</td>\n",
       "      <td>https://www.bbc.com/yoruba/afrika-59202960</td>\n",
       "    </tr>\n",
       "    <tr>\n",
       "      <th>1179</th>\n",
       "      <td>unlabeled</td>\n",
       "      <td>religion</td>\n",
       "      <td>Silhouette Challenge: Pásítọ̀ Adeboye korò ojú...</td>\n",
       "      <td>Ọpọlọpọ eniyan lo ti n fi ero wọn han lori awo...</td>\n",
       "      <td>https://www.bbc.com/yoruba/media-55868880</td>\n",
       "    </tr>\n",
       "    <tr>\n",
       "      <th>1180</th>\n",
       "      <td>unlabeled</td>\n",
       "      <td>sports</td>\n",
       "      <td>Ukraine crisis: FIFA pàṣẹ pé Russia kò gbọdọ̀ ...</td>\n",
       "      <td>FIFA pàṣẹ pé Russia kò gbọdọ̀ díje pẹ̀lú àṣíá ...</td>\n",
       "      <td>https://www.bbc.com/yoruba/60554121</td>\n",
       "    </tr>\n",
       "    <tr>\n",
       "      <th>1181</th>\n",
       "      <td>unlabeled</td>\n",
       "      <td>politics</td>\n",
       "      <td>Ayo Fayose: Gómìnà àná ìpínlẹ̀ Ekiti tọrọ àfor...</td>\n",
       "      <td>A kii rin, ki ori maa ma mi.  Eyi lo difa fun ...</td>\n",
       "      <td>https://www.bbc.com/yoruba/afrika-50739133</td>\n",
       "    </tr>\n",
       "    <tr>\n",
       "      <th>1182</th>\n",
       "      <td>unlabeled</td>\n",
       "      <td>religion</td>\n",
       "      <td>David Oyedepo pe Biodun Fatoyinbo si ìsìn Shil...</td>\n",
       "      <td>Lẹyin ọdun kan, awọn ọmọ orilẹ-ede Naijiria tu...</td>\n",
       "      <td>https://www.bbc.com/yoruba/awon-iroyin-miran-5...</td>\n",
       "    </tr>\n",
       "  </tbody>\n",
       "</table>\n",
       "<p>1183 rows × 5 columns</p>\n",
       "</div>"
      ],
      "text/plain": [
       "      unlabeled       category  \\\n",
       "0     unlabeled         sports   \n",
       "1     unlabeled       politics   \n",
       "2     unlabeled         health   \n",
       "3     unlabeled  entertainment   \n",
       "4     unlabeled  entertainment   \n",
       "...         ...            ...   \n",
       "1178  unlabeled       religion   \n",
       "1179  unlabeled       religion   \n",
       "1180  unlabeled         sports   \n",
       "1181  unlabeled       politics   \n",
       "1182  unlabeled       religion   \n",
       "\n",
       "                                               headline  \\\n",
       "0     Diego Maradona: Báyìí ni àgbàọ̀jẹ̀ agbábọ́ọ̀lù...   \n",
       "1     Kogi PDP Primaries: Wada fẹ̀yìn Dino gbálẹ̀ ní...   \n",
       "2     Snail Slim Soap: Wo ọ̀pọ̀ àǹfààní tó wà nínú l...   \n",
       "3     Yollywood: Baba Wande, Kareem Adepoju, Jide Ko...   \n",
       "4     Dino Melaye vs Iyabo Ojo: Sẹ́nétọ̀ ní lórí irọ...   \n",
       "...                                                 ...   \n",
       "1178  Pastor Adeboye on 2023 Election: Wọ́n bi mi pé...   \n",
       "1179  Silhouette Challenge: Pásítọ̀ Adeboye korò ojú...   \n",
       "1180  Ukraine crisis: FIFA pàṣẹ pé Russia kò gbọdọ̀ ...   \n",
       "1181  Ayo Fayose: Gómìnà àná ìpínlẹ̀ Ekiti tọrọ àfor...   \n",
       "1182  David Oyedepo pe Biodun Fatoyinbo si ìsìn Shil...   \n",
       "\n",
       "                                                   text  \\\n",
       "0     Ba a ku laa dere eeyan o sunwọn laaye. Agbaọjẹ...   \n",
       "1     Amoju ẹro Musa Wada la Sẹnẹtọ Dino Melaye mọ l...   \n",
       "2     Ara meeriri ree, a ti ri oju ologbo lori atẹ, ...   \n",
       "3     Iriri kọja ẹgbẹ abẹwu ni ọrọ awọn agba osere k...   \n",
       "4     Laipẹ yii ni fidio kan gbode lori ayelujara, n...   \n",
       "...                                                 ...   \n",
       "1178  \"Mo ni bawo lo ṣe da ọ loju pe Naijiria yoo wa...   \n",
       "1179  Ọpọlọpọ eniyan lo ti n fi ero wọn han lori awo...   \n",
       "1180  FIFA pàṣẹ pé Russia kò gbọdọ̀ díje pẹ̀lú àṣíá ...   \n",
       "1181  A kii rin, ki ori maa ma mi.  Eyi lo difa fun ...   \n",
       "1182  Lẹyin ọdun kan, awọn ọmọ orilẹ-ede Naijiria tu...   \n",
       "\n",
       "                                                    url  \n",
       "0       https://www.bbc.com/yoruba/ere-idaraya-55078990  \n",
       "1            https://www.bbc.com/yoruba/afrika-49583650  \n",
       "2            https://www.bbc.com/yoruba/afrika-57373685  \n",
       "3                   https://www.bbc.com/yoruba/62648794  \n",
       "4            https://www.bbc.com/yoruba/afrika-57628945  \n",
       "...                                                 ...  \n",
       "1178         https://www.bbc.com/yoruba/afrika-59202960  \n",
       "1179          https://www.bbc.com/yoruba/media-55868880  \n",
       "1180                https://www.bbc.com/yoruba/60554121  \n",
       "1181         https://www.bbc.com/yoruba/afrika-50739133  \n",
       "1182  https://www.bbc.com/yoruba/awon-iroyin-miran-5...  \n",
       "\n",
       "[1183 rows x 5 columns]"
      ]
     },
     "execution_count": 417,
     "metadata": {},
     "output_type": "execute_result"
    }
   ],
   "source": [
    "unlabeled_train.insert(0, 'unlabeled', 'unlabeled')\n",
    "unlabeled_train.reset_index(drop=True)"
   ]
  },
  {
   "cell_type": "code",
   "execution_count": 410,
   "metadata": {},
   "outputs": [
    {
     "data": {
      "text/html": [
       "<div>\n",
       "<style scoped>\n",
       "    .dataframe tbody tr th:only-of-type {\n",
       "        vertical-align: middle;\n",
       "    }\n",
       "\n",
       "    .dataframe tbody tr th {\n",
       "        vertical-align: top;\n",
       "    }\n",
       "\n",
       "    .dataframe thead th {\n",
       "        text-align: right;\n",
       "    }\n",
       "</style>\n",
       "<table border=\"1\" class=\"dataframe\">\n",
       "  <thead>\n",
       "    <tr style=\"text-align: right;\">\n",
       "      <th></th>\n",
       "      <th>unlabeled</th>\n",
       "      <th>headline</th>\n",
       "      <th>text</th>\n",
       "      <th>url</th>\n",
       "    </tr>\n",
       "  </thead>\n",
       "  <tbody>\n",
       "    <tr>\n",
       "      <th>100</th>\n",
       "      <td>unlabeled</td>\n",
       "      <td>Duncan Mighty: Ọlọ́pàá fi pampẹ́ mú olórín tàk...</td>\n",
       "      <td>Ajọ ọlọpaa ipinlẹ Imo ti fi pampẹ ofin mu gbaj...</td>\n",
       "      <td>https://www.bbc.com/yoruba/50795323</td>\n",
       "    </tr>\n",
       "    <tr>\n",
       "      <th>101</th>\n",
       "      <td>unlabeled</td>\n",
       "      <td>Arsenal fọ́ Sevilla lẹ́nu pẹ̀lú góòlù 6-0</td>\n",
       "      <td>Goolu mẹta ṣangiliti ni atamatase tuntun ti ẹg...</td>\n",
       "      <td>https://www.bbc.com/yoruba/articles/clmkgxglrl9o</td>\n",
       "    </tr>\n",
       "    <tr>\n",
       "      <th>102</th>\n",
       "      <td>unlabeled</td>\n",
       "      <td>TB Joshua burial: Wo àwọn gbajúmọ̀ òṣèré tó lọ...</td>\n",
       "      <td>Eto ayẹyẹ isin idagbere ati isinku gbajugbaja ...</td>\n",
       "      <td>https://www.bbc.com/yoruba/awon-iroyin-miran-5...</td>\n",
       "    </tr>\n",
       "    <tr>\n",
       "      <th>103</th>\n",
       "      <td>unlabeled</td>\n",
       "      <td>Aisha Lawal: Ẹni tó kéde pé mo kú yóò rí ìbínú...</td>\n",
       "      <td>Igbe hà hà ni ó gba ẹni àwọn ènìyàn lójú ìpó ì...</td>\n",
       "      <td>https://www.bbc.com/yoruba/media-56926395</td>\n",
       "    </tr>\n",
       "    <tr>\n",
       "      <th>104</th>\n",
       "      <td>unlabeled</td>\n",
       "      <td>Brighton vs Tottenham: Aṣọ́lé Tottenham, Hugo ...</td>\n",
       "      <td>Kaka ki ewe agbọn dẹ, niṣe lo n le koko sii. K...</td>\n",
       "      <td>https://www.bbc.com/yoruba/ere-idaraya-49946254</td>\n",
       "    </tr>\n",
       "    <tr>\n",
       "      <th>...</th>\n",
       "      <td>...</td>\n",
       "      <td>...</td>\n",
       "      <td>...</td>\n",
       "      <td>...</td>\n",
       "    </tr>\n",
       "    <tr>\n",
       "      <th>1428</th>\n",
       "      <td>unlabeled</td>\n",
       "      <td>Pastor Adeboye on 2023 Election: Wọ́n bi mi pé...</td>\n",
       "      <td>\"Mo ni bawo lo ṣe da ọ loju pe Naijiria yoo wa...</td>\n",
       "      <td>https://www.bbc.com/yoruba/afrika-59202960</td>\n",
       "    </tr>\n",
       "    <tr>\n",
       "      <th>1429</th>\n",
       "      <td>unlabeled</td>\n",
       "      <td>Silhouette Challenge: Pásítọ̀ Adeboye korò ojú...</td>\n",
       "      <td>Ọpọlọpọ eniyan lo ti n fi ero wọn han lori awo...</td>\n",
       "      <td>https://www.bbc.com/yoruba/media-55868880</td>\n",
       "    </tr>\n",
       "    <tr>\n",
       "      <th>1430</th>\n",
       "      <td>unlabeled</td>\n",
       "      <td>Ukraine crisis: FIFA pàṣẹ pé Russia kò gbọdọ̀ ...</td>\n",
       "      <td>FIFA pàṣẹ pé Russia kò gbọdọ̀ díje pẹ̀lú àṣíá ...</td>\n",
       "      <td>https://www.bbc.com/yoruba/60554121</td>\n",
       "    </tr>\n",
       "    <tr>\n",
       "      <th>1431</th>\n",
       "      <td>unlabeled</td>\n",
       "      <td>Ayo Fayose: Gómìnà àná ìpínlẹ̀ Ekiti tọrọ àfor...</td>\n",
       "      <td>A kii rin, ki ori maa ma mi.  Eyi lo difa fun ...</td>\n",
       "      <td>https://www.bbc.com/yoruba/afrika-50739133</td>\n",
       "    </tr>\n",
       "    <tr>\n",
       "      <th>1432</th>\n",
       "      <td>unlabeled</td>\n",
       "      <td>David Oyedepo pe Biodun Fatoyinbo si ìsìn Shil...</td>\n",
       "      <td>Lẹyin ọdun kan, awọn ọmọ orilẹ-ede Naijiria tu...</td>\n",
       "      <td>https://www.bbc.com/yoruba/awon-iroyin-miran-5...</td>\n",
       "    </tr>\n",
       "  </tbody>\n",
       "</table>\n",
       "<p>1333 rows × 4 columns</p>\n",
       "</div>"
      ],
      "text/plain": [
       "      unlabeled                                           headline  \\\n",
       "100   unlabeled  Duncan Mighty: Ọlọ́pàá fi pampẹ́ mú olórín tàk...   \n",
       "101   unlabeled          Arsenal fọ́ Sevilla lẹ́nu pẹ̀lú góòlù 6-0   \n",
       "102   unlabeled  TB Joshua burial: Wo àwọn gbajúmọ̀ òṣèré tó lọ...   \n",
       "103   unlabeled  Aisha Lawal: Ẹni tó kéde pé mo kú yóò rí ìbínú...   \n",
       "104   unlabeled  Brighton vs Tottenham: Aṣọ́lé Tottenham, Hugo ...   \n",
       "...         ...                                                ...   \n",
       "1428  unlabeled  Pastor Adeboye on 2023 Election: Wọ́n bi mi pé...   \n",
       "1429  unlabeled  Silhouette Challenge: Pásítọ̀ Adeboye korò ojú...   \n",
       "1430  unlabeled  Ukraine crisis: FIFA pàṣẹ pé Russia kò gbọdọ̀ ...   \n",
       "1431  unlabeled  Ayo Fayose: Gómìnà àná ìpínlẹ̀ Ekiti tọrọ àfor...   \n",
       "1432  unlabeled  David Oyedepo pe Biodun Fatoyinbo si ìsìn Shil...   \n",
       "\n",
       "                                                   text  \\\n",
       "100   Ajọ ọlọpaa ipinlẹ Imo ti fi pampẹ ofin mu gbaj...   \n",
       "101   Goolu mẹta ṣangiliti ni atamatase tuntun ti ẹg...   \n",
       "102   Eto ayẹyẹ isin idagbere ati isinku gbajugbaja ...   \n",
       "103   Igbe hà hà ni ó gba ẹni àwọn ènìyàn lójú ìpó ì...   \n",
       "104   Kaka ki ewe agbọn dẹ, niṣe lo n le koko sii. K...   \n",
       "...                                                 ...   \n",
       "1428  \"Mo ni bawo lo ṣe da ọ loju pe Naijiria yoo wa...   \n",
       "1429  Ọpọlọpọ eniyan lo ti n fi ero wọn han lori awo...   \n",
       "1430  FIFA pàṣẹ pé Russia kò gbọdọ̀ díje pẹ̀lú àṣíá ...   \n",
       "1431  A kii rin, ki ori maa ma mi.  Eyi lo difa fun ...   \n",
       "1432  Lẹyin ọdun kan, awọn ọmọ orilẹ-ede Naijiria tu...   \n",
       "\n",
       "                                                    url  \n",
       "100                 https://www.bbc.com/yoruba/50795323  \n",
       "101    https://www.bbc.com/yoruba/articles/clmkgxglrl9o  \n",
       "102   https://www.bbc.com/yoruba/awon-iroyin-miran-5...  \n",
       "103           https://www.bbc.com/yoruba/media-56926395  \n",
       "104     https://www.bbc.com/yoruba/ere-idaraya-49946254  \n",
       "...                                                 ...  \n",
       "1428         https://www.bbc.com/yoruba/afrika-59202960  \n",
       "1429          https://www.bbc.com/yoruba/media-55868880  \n",
       "1430                https://www.bbc.com/yoruba/60554121  \n",
       "1431         https://www.bbc.com/yoruba/afrika-50739133  \n",
       "1432  https://www.bbc.com/yoruba/awon-iroyin-miran-5...  \n",
       "\n",
       "[1333 rows x 4 columns]"
      ]
     },
     "execution_count": 410,
     "metadata": {},
     "output_type": "execute_result"
    }
   ],
   "source": [
    "unlabeled_train.drop(columns='category', inplace=True)\n",
    "unlabeled_train"
   ]
  },
  {
   "cell_type": "code",
   "execution_count": 411,
   "metadata": {},
   "outputs": [],
   "source": [
    "\n",
    "#We take X examples from each label, and the rest become the unlabeled data-set.\n",
    "#Instead, we could also make the new training data-set following the proportion of examples per label.\n",
    "#PVP pattern-verbalizer pair (PVP)"
   ]
  },
  {
   "cell_type": "code",
   "execution_count": 413,
   "metadata": {},
   "outputs": [],
   "source": [
    "new_train.to_csv(\"/home/sanala/Juputer try/pet/data-fsl/yor/20sample/train.tsv\", sep=\"\\t\", index=False  ,header=False)\n",
    "unlabeled_train.to_csv(\"/home/sanala/Juputer try/pet/data-fsl/yor/20sample/unlabeled.tsv\", sep=\"\\t\", index=False,header=False)\n",
    "new_dev.to_csv(\"/home/sanala/Juputer try/pet/data-fsl/yor/20sample/dev.tsv\", sep=\"\\t\", index=False,header=False)"
   ]
  },
  {
   "cell_type": "markdown",
   "metadata": {},
   "source": [
    "### Train your own PET\n",
    "\n"
   ]
  },
  {
   "cell_type": "code",
   "execution_count": 224,
   "metadata": {},
   "outputs": [
    {
     "name": "stdout",
     "output_type": "stream",
     "text": [
      "/home/sanala/Juputer try/pet\n"
     ]
    }
   ],
   "source": [
    "%cd /home/sanala/Juputer try/pet/\n"
   ]
  },
  {
   "cell_type": "code",
   "execution_count": null,
   "metadata": {},
   "outputs": [],
   "source": [
    " "
   ]
  },
  {
   "cell_type": "code",
   "execution_count": null,
   "metadata": {},
   "outputs": [],
   "source": [
    "python3 cli.py \\\n",
    "--method ipet \\ \n",
    "--pattern_ids 0 1 2 3 4 \\\n",
    "--data_dir '/home/sanala/Juputer try/pet/data-fsl/eng/5sample/' \\\n",
    "--model_type roberta \\\n",
    "--model_name_or_path 'roberta-base' \\\n",
    "--task_name 'topic-classification' \\\n",
    "--output_dir '/home/sanala/Juputer try/pet/results/eng/model-ipet-5-roberta-base/' \\\n",
    "--do_train \\\n",
    "--do_eval \\\n",
    "--sc_repetitions 1"
   ]
  },
  {
   "cell_type": "code",
   "execution_count": null,
   "metadata": {},
   "outputs": [],
   "source": [
    " !python3 cli.py \\\n",
    "--method pet \\\n",
    "--pattern_ids 0 1 2 3 4 \\\n",
    "--data_dir '/home/sanala/Juputer try/pet/data-fsl/eng/10sample/' \\\n",
    "--model_type xlm-roberta \\\n",
    "--model_name_or_path 'Davlan/afro-xlmr-large' \\\n",
    "--task_name 'topic-classification' \\\n",
    "--output_dir '/home/sanala/Juputer try/pet/results/model-pet-10-Davlan-afro-xlmr-large/' \\\n",
    "--do_train \\\n",
    "--do_eval \\\n",
    "--sc_repetitions 1"
   ]
  },
  {
   "cell_type": "code",
   "execution_count": null,
   "metadata": {},
   "outputs": [],
   "source": [
    " "
   ]
  },
  {
   "cell_type": "code",
   "execution_count": null,
   "metadata": {},
   "outputs": [],
   "source": [
    " "
   ]
  },
  {
   "cell_type": "code",
   "execution_count": null,
   "metadata": {},
   "outputs": [],
   "source": []
  },
  {
   "cell_type": "code",
   "execution_count": 152,
   "metadata": {},
   "outputs": [],
   "source": [
    " "
   ]
  },
  {
   "cell_type": "code",
   "execution_count": null,
   "metadata": {},
   "outputs": [],
   "source": [
    " "
   ]
  },
  {
   "cell_type": "code",
   "execution_count": null,
   "metadata": {},
   "outputs": [],
   "source": [
    " "
   ]
  },
  {
   "cell_type": "code",
   "execution_count": null,
   "metadata": {},
   "outputs": [],
   "source": [
    " "
   ]
  },
  {
   "cell_type": "code",
   "execution_count": 142,
   "metadata": {},
   "outputs": [
    {
     "name": "stderr",
     "output_type": "stream",
     "text": [
      "Found cached dataset ag_news (/home/sanala/.cache/huggingface/datasets/ag_news/default/0.0.0/bc2bcb40336ace1a0374767fc29bb0296cdaf8a6da7298436239c54d79180548)\n"
     ]
    },
    {
     "data": {
      "application/vnd.jupyter.widget-view+json": {
       "model_id": "4fd79061e36b43198b27d2e6e62b26c1",
       "version_major": 2,
       "version_minor": 0
      },
      "text/plain": [
       "  0%|          | 0/2 [00:00<?, ?it/s]"
      ]
     },
     "metadata": {},
     "output_type": "display_data"
    },
    {
     "name": "stderr",
     "output_type": "stream",
     "text": [
      "Loading cached processed dataset at /home/sanala/.cache/huggingface/datasets/ag_news/default/0.0.0/bc2bcb40336ace1a0374767fc29bb0296cdaf8a6da7298436239c54d79180548/cache-7226dd4188c2c49b.arrow\n",
      "Loading cached shuffled indices for dataset at /home/sanala/.cache/huggingface/datasets/ag_news/default/0.0.0/bc2bcb40336ace1a0374767fc29bb0296cdaf8a6da7298436239c54d79180548/cache-277d3205b905244a.arrow\n",
      "Loading cached processed dataset at /home/sanala/.cache/huggingface/datasets/ag_news/default/0.0.0/bc2bcb40336ace1a0374767fc29bb0296cdaf8a6da7298436239c54d79180548/cache-35dc74a17b998641.arrow\n",
      "Loading cached shuffled indices for dataset at /home/sanala/.cache/huggingface/datasets/ag_news/default/0.0.0/bc2bcb40336ace1a0374767fc29bb0296cdaf8a6da7298436239c54d79180548/cache-4f412e16776cd10f.arrow\n",
      "Loading cached processed dataset at /home/sanala/.cache/huggingface/datasets/ag_news/default/0.0.0/bc2bcb40336ace1a0374767fc29bb0296cdaf8a6da7298436239c54d79180548/cache-693b7ded9f9fd1ab.arrow\n",
      "Loading cached shuffled indices for dataset at /home/sanala/.cache/huggingface/datasets/ag_news/default/0.0.0/bc2bcb40336ace1a0374767fc29bb0296cdaf8a6da7298436239c54d79180548/cache-fd9ee9643f67d58f.arrow\n",
      "Loading cached processed dataset at /home/sanala/.cache/huggingface/datasets/ag_news/default/0.0.0/bc2bcb40336ace1a0374767fc29bb0296cdaf8a6da7298436239c54d79180548/cache-0889774eb5263431.arrow\n",
      "Loading cached shuffled indices for dataset at /home/sanala/.cache/huggingface/datasets/ag_news/default/0.0.0/bc2bcb40336ace1a0374767fc29bb0296cdaf8a6da7298436239c54d79180548/cache-ea1cf2725003146a.arrow\n"
     ]
    },
    {
     "data": {
      "text/plain": [
       "[Dataset({\n",
       "     features: ['text', 'label'],\n",
       "     num_rows: 8\n",
       " }),\n",
       " Dataset({\n",
       "     features: ['text', 'label'],\n",
       "     num_rows: 8\n",
       " }),\n",
       " Dataset({\n",
       "     features: ['text', 'label'],\n",
       "     num_rows: 8\n",
       " }),\n",
       " Dataset({\n",
       "     features: ['text', 'label'],\n",
       "     num_rows: 8\n",
       " })]"
      ]
     },
     "execution_count": 142,
     "metadata": {},
     "output_type": "execute_result"
    }
   ],
   "source": [
    " "
   ]
  },
  {
   "cell_type": "code",
   "execution_count": 145,
   "metadata": {},
   "outputs": [
    {
     "data": {
      "text/plain": [
       "DatasetDict({\n",
       "    train: Dataset({\n",
       "        features: ['text', 'label'],\n",
       "        num_rows: 120000\n",
       "    })\n",
       "    test: Dataset({\n",
       "        features: ['text', 'label'],\n",
       "        num_rows: 7600\n",
       "    })\n",
       "})"
      ]
     },
     "execution_count": 145,
     "metadata": {},
     "output_type": "execute_result"
    }
   ],
   "source": []
  },
  {
   "cell_type": "code",
   "execution_count": 144,
   "metadata": {},
   "outputs": [
    {
     "data": {
      "text/plain": [
       "{'text': 'Stripper shortage reflects industry demands for more demeaning acts: expert (Canadian Press) Canadian Press - OTTAWA (CP) - Contrary to Immigration Department claims, there is no shortage of native-borne exotic dancers in Canada, says a University of Toronto law professor who has studied the strip club business.',\n",
       " 'label': 0}"
      ]
     },
     "execution_count": 144,
     "metadata": {},
     "output_type": "execute_result"
    }
   ],
   "source": [
    " train_dataset[0]"
   ]
  },
  {
   "cell_type": "code",
   "execution_count": null,
   "metadata": {},
   "outputs": [],
   "source": []
  }
 ],
 "metadata": {
  "kernelspec": {
   "display_name": "env-hsd",
   "language": "python",
   "name": "env-hsd"
  },
  "language_info": {
   "codemirror_mode": {
    "name": "ipython",
    "version": 3
   },
   "file_extension": ".py",
   "mimetype": "text/x-python",
   "name": "python",
   "nbconvert_exporter": "python",
   "pygments_lexer": "ipython3",
   "version": "3.8.5"
  }
 },
 "nbformat": 4,
 "nbformat_minor": 4
}
